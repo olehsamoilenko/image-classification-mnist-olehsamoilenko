{
 "cells": [
  {
   "cell_type": "code",
   "execution_count": 16,
   "metadata": {},
   "outputs": [],
   "source": [
    "import torch\n",
    "import torch.nn as nn\n",
    "import torch.nn.functional as F\n",
    "from torch.utils.data import Dataset, DataLoader\n",
    "\n",
    "import pandas as pd\n",
    "from tqdm import tqdm\n",
    "import matplotlib.pyplot as plt"
   ]
  },
  {
   "cell_type": "code",
   "execution_count": 3,
   "metadata": {},
   "outputs": [
    {
     "name": "stdout",
     "output_type": "stream",
     "text": [
      "torch.Size([42000, 1, 28, 28])\n",
      "torch.Size([42000])\n"
     ]
    }
   ],
   "source": [
    "# Train Data\n",
    "df = pd.read_csv('data/train.csv')\n",
    "X = df.drop('label', axis=1) # Features\n",
    "y = df['label']              # Labels\n",
    "\n",
    "X = X.astype('float32') / 255.0 # normalize\n",
    "X = torch.tensor(X.values, dtype=torch.float32)\n",
    "y = torch.tensor(y.values)\n",
    "X = X.reshape(-1, 1, 28, 28)\n",
    "\n",
    "print(X.shape)\n",
    "print(y.shape)"
   ]
  },
  {
   "cell_type": "code",
   "execution_count": 4,
   "metadata": {},
   "outputs": [
    {
     "name": "stdout",
     "output_type": "stream",
     "text": [
      "torch.Size([10, 1, 28, 28])\n",
      "torch.Size([10])\n"
     ]
    },
    {
     "data": {
      "text/plain": [
       "<matplotlib.image.AxesImage at 0x7f783ac7b1c0>"
      ]
     },
     "execution_count": 4,
     "metadata": {},
     "output_type": "execute_result"
    },
    {
     "data": {
      "image/png": "[encoded data removed]",
      "text/plain": [
       "<Figure size 640x480 with 1 Axes>"
      ]
     },
     "metadata": {},
     "output_type": "display_data"
    }
   ],
   "source": [
    "class CustomDataset(Dataset):\n",
    "    def __init__(self, X, y):\n",
    "        self.X = X\n",
    "        self.y = y\n",
    "    \n",
    "    def __len__(self):\n",
    "        return len(self.X)\n",
    "    \n",
    "    def __getitem__(self, idx):\n",
    "        return self.X[idx], self.y[idx]\n",
    "\n",
    "train_dataset = CustomDataset(X[:38000], y[:38000])\n",
    "test_dataset  = CustomDataset(X[38000:], y[38000:])\n",
    "train_loader = DataLoader(train_dataset, batch_size=10, shuffle=True) # TODO: try bigger batch\n",
    "test_loader  = DataLoader(test_dataset,  batch_size=10, shuffle=False)\n",
    "\n",
    "# Test how it works :)\n",
    "for X_train, y_train in train_loader:\n",
    "    break\n",
    "print(X_train.shape)\n",
    "print(y_train.shape)\n",
    "plt.imshow(X_train[0][0])"
   ]
  },
  {
   "cell_type": "code",
   "execution_count": 5,
   "metadata": {},
   "outputs": [
    {
     "data": {
      "text/plain": [
       "AdvancedCNN(\n",
       "  (conv1): Conv2d(1, 6, kernel_size=(3, 3), stride=(1, 1))\n",
       "  (pool1): MaxPool2d(kernel_size=2, stride=2, padding=0, dilation=1, ceil_mode=False)\n",
       "  (conv2): Conv2d(6, 16, kernel_size=(3, 3), stride=(1, 1))\n",
       "  (pool2): MaxPool2d(kernel_size=2, stride=2, padding=0, dilation=1, ceil_mode=False)\n",
       "  (fc1): Linear(in_features=400, out_features=120, bias=True)\n",
       "  (fc2): Linear(in_features=120, out_features=84, bias=True)\n",
       "  (fc3): Linear(in_features=84, out_features=10, bias=True)\n",
       ")"
      ]
     },
     "execution_count": 5,
     "metadata": {},
     "output_type": "execute_result"
    }
   ],
   "source": [
    "class AdvancedCNN(nn.Module):\n",
    "    def __init__(self):\n",
    "        super(AdvancedCNN, self).__init__()\n",
    "        # in: 28x28\n",
    "        self.conv1 = nn.Conv2d(in_channels=1, out_channels=6, kernel_size=3) # out: 6*26*26\n",
    "        self.pool1 = nn.MaxPool2d(kernel_size=2, stride=2, padding=0) # out: 6*13*13\n",
    "        self.conv2 = nn.Conv2d(in_channels=6, out_channels=16, kernel_size=3) # out: 16*11*11\n",
    "        self.pool2 = nn.MaxPool2d(kernel_size=2, stride=2, padding=0) # out: 16*5*5\n",
    "        # Fully connected\n",
    "        self.fc1 = nn.Linear(in_features=16*5*5, out_features=120)\n",
    "        self.fc2 = nn.Linear(in_features=120, out_features=84)\n",
    "        self.fc3 = nn.Linear(in_features=84, out_features=10)\n",
    "\n",
    "    def forward(self, x):\n",
    "        x = torch.relu(self.conv1(x))\n",
    "        x = self.pool1(x)\n",
    "        x = torch.relu(self.conv2(x))\n",
    "        x = self.pool2(x)\n",
    "        x = x.view(-1, 16*5*5) # -1 means any batch size\n",
    "        x = F.relu(self.fc1(x))\n",
    "        x = F.relu(self.fc2(x))\n",
    "        x = self.fc3(x)\n",
    "        return F.log_softmax(x, dim=1)\n",
    "\n",
    "model = AdvancedCNN()\n",
    "criterion = nn.CrossEntropyLoss()\n",
    "optimizer = torch.optim.Adam(model.parameters(), lr=0.001)\n",
    "model"
   ]
  },
  {
   "cell_type": "code",
   "execution_count": 6,
   "metadata": {},
   "outputs": [
    {
     "name": "stderr",
     "output_type": "stream",
     "text": [
      "Epoch 0/30 (Training): 100%|██████████| 3800/3800 [00:10<00:00, 348.55it/s]\n"
     ]
    },
    {
     "name": "stdout",
     "output_type": "stream",
     "text": [
      "Epoch 0/30 (Training) Correct 35406/38000 Loss 0.2110530585050583\n"
     ]
    },
    {
     "name": "stderr",
     "output_type": "stream",
     "text": [
      "Epoch 0/30 (Validation): 100%|██████████| 400/400 [00:00<00:00, 1351.83it/s]\n"
     ]
    },
    {
     "name": "stdout",
     "output_type": "stream",
     "text": [
      "Epoch 0/30 (Validation) Correct 3895/4000 Loss 0.0924813374876976\n"
     ]
    },
    {
     "name": "stderr",
     "output_type": "stream",
     "text": [
      "Epoch 1/30 (Training): 100%|██████████| 3800/3800 [00:10<00:00, 374.16it/s]\n"
     ]
    },
    {
     "name": "stdout",
     "output_type": "stream",
     "text": [
      "Epoch 1/30 (Training) Correct 37107/38000 Loss 0.0778055340051651\n"
     ]
    },
    {
     "name": "stderr",
     "output_type": "stream",
     "text": [
      "Epoch 1/30 (Validation): 100%|██████████| 400/400 [00:00<00:00, 1581.32it/s]\n"
     ]
    },
    {
     "name": "stdout",
     "output_type": "stream",
     "text": [
      "Epoch 1/30 (Validation) Correct 3902/4000 Loss 0.07566492259502411\n"
     ]
    },
    {
     "name": "stderr",
     "output_type": "stream",
     "text": [
      "Epoch 2/30 (Training): 100%|██████████| 3800/3800 [00:09<00:00, 383.07it/s]\n"
     ]
    },
    {
     "name": "stdout",
     "output_type": "stream",
     "text": [
      "Epoch 2/30 (Training) Correct 37308/38000 Loss 0.055514559149742126\n"
     ]
    },
    {
     "name": "stderr",
     "output_type": "stream",
     "text": [
      "Epoch 2/30 (Validation): 100%|██████████| 400/400 [00:00<00:00, 1078.87it/s]\n"
     ]
    },
    {
     "name": "stdout",
     "output_type": "stream",
     "text": [
      "Epoch 2/30 (Validation) Correct 3912/4000 Loss 0.07051663100719452\n"
     ]
    },
    {
     "name": "stderr",
     "output_type": "stream",
     "text": [
      "Epoch 3/30 (Training): 100%|██████████| 3800/3800 [00:10<00:00, 374.06it/s]\n"
     ]
    },
    {
     "name": "stdout",
     "output_type": "stream",
     "text": [
      "Epoch 3/30 (Training) Correct 37486/38000 Loss 0.0429203063249588\n"
     ]
    },
    {
     "name": "stderr",
     "output_type": "stream",
     "text": [
      "Epoch 3/30 (Validation): 100%|██████████| 400/400 [00:00<00:00, 1474.49it/s]\n"
     ]
    },
    {
     "name": "stdout",
     "output_type": "stream",
     "text": [
      "Epoch 3/30 (Validation) Correct 3942/4000 Loss 0.053281381726264954\n"
     ]
    },
    {
     "name": "stderr",
     "output_type": "stream",
     "text": [
      "Epoch 4/30 (Training): 100%|██████████| 3800/3800 [00:10<00:00, 370.55it/s]\n"
     ]
    },
    {
     "name": "stdout",
     "output_type": "stream",
     "text": [
      "Epoch 4/30 (Training) Correct 37598/38000 Loss 0.03362326696515083\n"
     ]
    },
    {
     "name": "stderr",
     "output_type": "stream",
     "text": [
      "Epoch 4/30 (Validation): 100%|██████████| 400/400 [00:00<00:00, 1395.82it/s]\n"
     ]
    },
    {
     "name": "stdout",
     "output_type": "stream",
     "text": [
      "Epoch 4/30 (Validation) Correct 3923/4000 Loss 0.07537972182035446\n"
     ]
    },
    {
     "name": "stderr",
     "output_type": "stream",
     "text": [
      "Epoch 5/30 (Training): 100%|██████████| 3800/3800 [00:10<00:00, 362.93it/s]\n"
     ]
    },
    {
     "name": "stdout",
     "output_type": "stream",
     "text": [
      "Epoch 5/30 (Training) Correct 37650/38000 Loss 0.028536854311823845\n"
     ]
    },
    {
     "name": "stderr",
     "output_type": "stream",
     "text": [
      "Epoch 5/30 (Validation): 100%|██████████| 400/400 [00:00<00:00, 1381.21it/s]\n"
     ]
    },
    {
     "name": "stdout",
     "output_type": "stream",
     "text": [
      "Epoch 5/30 (Validation) Correct 3928/4000 Loss 0.05811386927962303\n"
     ]
    },
    {
     "name": "stderr",
     "output_type": "stream",
     "text": [
      "Epoch 6/30 (Training): 100%|██████████| 3800/3800 [00:10<00:00, 375.30it/s]\n"
     ]
    },
    {
     "name": "stdout",
     "output_type": "stream",
     "text": [
      "Epoch 6/30 (Training) Correct 37715/38000 Loss 0.02336837165057659\n"
     ]
    },
    {
     "name": "stderr",
     "output_type": "stream",
     "text": [
      "Epoch 6/30 (Validation): 100%|██████████| 400/400 [00:00<00:00, 1388.18it/s]\n"
     ]
    },
    {
     "name": "stdout",
     "output_type": "stream",
     "text": [
      "Epoch 6/30 (Validation) Correct 3940/4000 Loss 0.05766093730926514\n"
     ]
    },
    {
     "name": "stderr",
     "output_type": "stream",
     "text": [
      "Epoch 7/30 (Training): 100%|██████████| 3800/3800 [00:09<00:00, 385.87it/s]\n"
     ]
    },
    {
     "name": "stdout",
     "output_type": "stream",
     "text": [
      "Epoch 7/30 (Training) Correct 37745/38000 Loss 0.02139112912118435\n"
     ]
    },
    {
     "name": "stderr",
     "output_type": "stream",
     "text": [
      "Epoch 7/30 (Validation): 100%|██████████| 400/400 [00:00<00:00, 1290.30it/s]\n"
     ]
    },
    {
     "name": "stdout",
     "output_type": "stream",
     "text": [
      "Epoch 7/30 (Validation) Correct 3936/4000 Loss 0.0679163932800293\n"
     ]
    },
    {
     "name": "stderr",
     "output_type": "stream",
     "text": [
      "Epoch 8/30 (Training): 100%|██████████| 3800/3800 [00:10<00:00, 366.89it/s]\n"
     ]
    },
    {
     "name": "stdout",
     "output_type": "stream",
     "text": [
      "Epoch 8/30 (Training) Correct 37776/38000 Loss 0.016870424151420593\n"
     ]
    },
    {
     "name": "stderr",
     "output_type": "stream",
     "text": [
      "Epoch 8/30 (Validation): 100%|██████████| 400/400 [00:00<00:00, 1349.17it/s]\n"
     ]
    },
    {
     "name": "stdout",
     "output_type": "stream",
     "text": [
      "Epoch 8/30 (Validation) Correct 3952/4000 Loss 0.05445730686187744\n"
     ]
    },
    {
     "name": "stderr",
     "output_type": "stream",
     "text": [
      "Epoch 9/30 (Training): 100%|██████████| 3800/3800 [00:10<00:00, 367.27it/s]\n"
     ]
    },
    {
     "name": "stdout",
     "output_type": "stream",
     "text": [
      "Epoch 9/30 (Training) Correct 37809/38000 Loss 0.01557890698313713\n"
     ]
    },
    {
     "name": "stderr",
     "output_type": "stream",
     "text": [
      "Epoch 9/30 (Validation): 100%|██████████| 400/400 [00:00<00:00, 1090.59it/s]\n"
     ]
    },
    {
     "name": "stdout",
     "output_type": "stream",
     "text": [
      "Epoch 9/30 (Validation) Correct 3931/4000 Loss 0.07139001041650772\n"
     ]
    },
    {
     "name": "stderr",
     "output_type": "stream",
     "text": [
      "Epoch 10/30 (Training): 100%|██████████| 3800/3800 [00:09<00:00, 380.14it/s]\n"
     ]
    },
    {
     "name": "stdout",
     "output_type": "stream",
     "text": [
      "Epoch 10/30 (Training) Correct 37830/38000 Loss 0.014548107981681824\n"
     ]
    },
    {
     "name": "stderr",
     "output_type": "stream",
     "text": [
      "Epoch 10/30 (Validation): 100%|██████████| 400/400 [00:00<00:00, 1350.50it/s]\n"
     ]
    },
    {
     "name": "stdout",
     "output_type": "stream",
     "text": [
      "Epoch 10/30 (Validation) Correct 3952/4000 Loss 0.06593596935272217\n"
     ]
    },
    {
     "name": "stderr",
     "output_type": "stream",
     "text": [
      "Epoch 11/30 (Training): 100%|██████████| 3800/3800 [00:10<00:00, 363.06it/s]\n"
     ]
    },
    {
     "name": "stdout",
     "output_type": "stream",
     "text": [
      "Epoch 11/30 (Training) Correct 37861/38000 Loss 0.012515167705714703\n"
     ]
    },
    {
     "name": "stderr",
     "output_type": "stream",
     "text": [
      "Epoch 11/30 (Validation): 100%|██████████| 400/400 [00:00<00:00, 1398.88it/s]\n"
     ]
    },
    {
     "name": "stdout",
     "output_type": "stream",
     "text": [
      "Epoch 11/30 (Validation) Correct 3951/4000 Loss 0.07356409728527069\n"
     ]
    },
    {
     "name": "stderr",
     "output_type": "stream",
     "text": [
      "Epoch 12/30 (Training): 100%|██████████| 3800/3800 [00:11<00:00, 335.79it/s]\n"
     ]
    },
    {
     "name": "stdout",
     "output_type": "stream",
     "text": [
      "Epoch 12/30 (Training) Correct 37870/38000 Loss 0.01101489458233118\n"
     ]
    },
    {
     "name": "stderr",
     "output_type": "stream",
     "text": [
      "Epoch 12/30 (Validation): 100%|██████████| 400/400 [00:00<00:00, 1385.60it/s]\n"
     ]
    },
    {
     "name": "stdout",
     "output_type": "stream",
     "text": [
      "Epoch 12/30 (Validation) Correct 3942/4000 Loss 0.08093581348657608\n"
     ]
    },
    {
     "name": "stderr",
     "output_type": "stream",
     "text": [
      "Epoch 13/30 (Training): 100%|██████████| 3800/3800 [00:11<00:00, 343.49it/s]\n"
     ]
    },
    {
     "name": "stdout",
     "output_type": "stream",
     "text": [
      "Epoch 13/30 (Training) Correct 37860/38000 Loss 0.011343702673912048\n"
     ]
    },
    {
     "name": "stderr",
     "output_type": "stream",
     "text": [
      "Epoch 13/30 (Validation): 100%|██████████| 400/400 [00:00<00:00, 1254.62it/s]\n"
     ]
    },
    {
     "name": "stdout",
     "output_type": "stream",
     "text": [
      "Epoch 13/30 (Validation) Correct 3944/4000 Loss 0.08925989270210266\n"
     ]
    },
    {
     "name": "stderr",
     "output_type": "stream",
     "text": [
      "Epoch 14/30 (Training): 100%|██████████| 3800/3800 [00:10<00:00, 353.98it/s]\n"
     ]
    },
    {
     "name": "stdout",
     "output_type": "stream",
     "text": [
      "Epoch 14/30 (Training) Correct 37867/38000 Loss 0.012086479924619198\n"
     ]
    },
    {
     "name": "stderr",
     "output_type": "stream",
     "text": [
      "Epoch 14/30 (Validation): 100%|██████████| 400/400 [00:00<00:00, 1320.71it/s]\n"
     ]
    },
    {
     "name": "stdout",
     "output_type": "stream",
     "text": [
      "Epoch 14/30 (Validation) Correct 3935/4000 Loss 0.1082751452922821\n"
     ]
    },
    {
     "name": "stderr",
     "output_type": "stream",
     "text": [
      "Epoch 15/30 (Training): 100%|██████████| 3800/3800 [00:10<00:00, 357.01it/s]\n"
     ]
    },
    {
     "name": "stdout",
     "output_type": "stream",
     "text": [
      "Epoch 15/30 (Training) Correct 37856/38000 Loss 0.011376073583960533\n"
     ]
    },
    {
     "name": "stderr",
     "output_type": "stream",
     "text": [
      "Epoch 15/30 (Validation): 100%|██████████| 400/400 [00:00<00:00, 1402.21it/s]\n"
     ]
    },
    {
     "name": "stdout",
     "output_type": "stream",
     "text": [
      "Epoch 15/30 (Validation) Correct 3944/4000 Loss 0.0754672959446907\n"
     ]
    },
    {
     "name": "stderr",
     "output_type": "stream",
     "text": [
      "Epoch 16/30 (Training): 100%|██████████| 3800/3800 [00:10<00:00, 346.83it/s]\n"
     ]
    },
    {
     "name": "stdout",
     "output_type": "stream",
     "text": [
      "Epoch 16/30 (Training) Correct 37899/38000 Loss 0.008221120573580265\n"
     ]
    },
    {
     "name": "stderr",
     "output_type": "stream",
     "text": [
      "Epoch 16/30 (Validation): 100%|██████████| 400/400 [00:00<00:00, 1333.83it/s]\n"
     ]
    },
    {
     "name": "stdout",
     "output_type": "stream",
     "text": [
      "Epoch 16/30 (Validation) Correct 3944/4000 Loss 0.08005504310131073\n"
     ]
    },
    {
     "name": "stderr",
     "output_type": "stream",
     "text": [
      "Epoch 17/30 (Training): 100%|██████████| 3800/3800 [00:10<00:00, 347.07it/s]\n"
     ]
    },
    {
     "name": "stdout",
     "output_type": "stream",
     "text": [
      "Epoch 17/30 (Training) Correct 37900/38000 Loss 0.008827420882880688\n"
     ]
    },
    {
     "name": "stderr",
     "output_type": "stream",
     "text": [
      "Epoch 17/30 (Validation): 100%|██████████| 400/400 [00:00<00:00, 1193.18it/s]\n"
     ]
    },
    {
     "name": "stdout",
     "output_type": "stream",
     "text": [
      "Epoch 17/30 (Validation) Correct 3948/4000 Loss 0.06910581886768341\n"
     ]
    },
    {
     "name": "stderr",
     "output_type": "stream",
     "text": [
      "Epoch 18/30 (Training): 100%|██████████| 3800/3800 [00:10<00:00, 346.37it/s]\n"
     ]
    },
    {
     "name": "stdout",
     "output_type": "stream",
     "text": [
      "Epoch 18/30 (Training) Correct 37899/38000 Loss 0.00947111751884222\n"
     ]
    },
    {
     "name": "stderr",
     "output_type": "stream",
     "text": [
      "Epoch 18/30 (Validation): 100%|██████████| 400/400 [00:00<00:00, 1407.06it/s]\n"
     ]
    },
    {
     "name": "stdout",
     "output_type": "stream",
     "text": [
      "Epoch 18/30 (Validation) Correct 3931/4000 Loss 0.10608324408531189\n"
     ]
    },
    {
     "name": "stderr",
     "output_type": "stream",
     "text": [
      "Epoch 19/30 (Training): 100%|██████████| 3800/3800 [00:10<00:00, 363.73it/s]\n"
     ]
    },
    {
     "name": "stdout",
     "output_type": "stream",
     "text": [
      "Epoch 19/30 (Training) Correct 37904/38000 Loss 0.010218861512839794\n"
     ]
    },
    {
     "name": "stderr",
     "output_type": "stream",
     "text": [
      "Epoch 19/30 (Validation): 100%|██████████| 400/400 [00:00<00:00, 1339.75it/s]\n"
     ]
    },
    {
     "name": "stdout",
     "output_type": "stream",
     "text": [
      "Epoch 19/30 (Validation) Correct 3940/4000 Loss 0.08262065052986145\n"
     ]
    },
    {
     "name": "stderr",
     "output_type": "stream",
     "text": [
      "Epoch 20/30 (Training): 100%|██████████| 3800/3800 [00:10<00:00, 366.32it/s]\n"
     ]
    },
    {
     "name": "stdout",
     "output_type": "stream",
     "text": [
      "Epoch 20/30 (Training) Correct 37935/38000 Loss 0.005983514711260796\n"
     ]
    },
    {
     "name": "stderr",
     "output_type": "stream",
     "text": [
      "Epoch 20/30 (Validation): 100%|██████████| 400/400 [00:00<00:00, 1355.67it/s]\n"
     ]
    },
    {
     "name": "stdout",
     "output_type": "stream",
     "text": [
      "Epoch 20/30 (Validation) Correct 3959/4000 Loss 0.07981431484222412\n"
     ]
    },
    {
     "name": "stderr",
     "output_type": "stream",
     "text": [
      "Epoch 21/30 (Training): 100%|██████████| 3800/3800 [00:10<00:00, 347.60it/s]\n"
     ]
    },
    {
     "name": "stdout",
     "output_type": "stream",
     "text": [
      "Epoch 21/30 (Training) Correct 37922/38000 Loss 0.00887332484126091\n"
     ]
    },
    {
     "name": "stderr",
     "output_type": "stream",
     "text": [
      "Epoch 21/30 (Validation): 100%|██████████| 400/400 [00:00<00:00, 1446.68it/s]\n"
     ]
    },
    {
     "name": "stdout",
     "output_type": "stream",
     "text": [
      "Epoch 21/30 (Validation) Correct 3943/4000 Loss 0.0914345532655716\n"
     ]
    },
    {
     "name": "stderr",
     "output_type": "stream",
     "text": [
      "Epoch 22/30 (Training): 100%|██████████| 3800/3800 [00:10<00:00, 366.53it/s]\n"
     ]
    },
    {
     "name": "stdout",
     "output_type": "stream",
     "text": [
      "Epoch 22/30 (Training) Correct 37932/38000 Loss 0.007238280493766069\n"
     ]
    },
    {
     "name": "stderr",
     "output_type": "stream",
     "text": [
      "Epoch 22/30 (Validation): 100%|██████████| 400/400 [00:00<00:00, 1355.12it/s]\n"
     ]
    },
    {
     "name": "stdout",
     "output_type": "stream",
     "text": [
      "Epoch 22/30 (Validation) Correct 3925/4000 Loss 0.12156244367361069\n"
     ]
    },
    {
     "name": "stderr",
     "output_type": "stream",
     "text": [
      "Epoch 23/30 (Training): 100%|██████████| 3800/3800 [00:11<00:00, 344.10it/s]\n"
     ]
    },
    {
     "name": "stdout",
     "output_type": "stream",
     "text": [
      "Epoch 23/30 (Training) Correct 37904/38000 Loss 0.007458974607288837\n"
     ]
    },
    {
     "name": "stderr",
     "output_type": "stream",
     "text": [
      "Epoch 23/30 (Validation): 100%|██████████| 400/400 [00:00<00:00, 1361.73it/s]\n"
     ]
    },
    {
     "name": "stdout",
     "output_type": "stream",
     "text": [
      "Epoch 23/30 (Validation) Correct 3942/4000 Loss 0.11440082639455795\n"
     ]
    },
    {
     "name": "stderr",
     "output_type": "stream",
     "text": [
      "Epoch 24/30 (Training): 100%|██████████| 3800/3800 [00:10<00:00, 345.93it/s]\n"
     ]
    },
    {
     "name": "stdout",
     "output_type": "stream",
     "text": [
      "Epoch 24/30 (Training) Correct 37900/38000 Loss 0.008790915831923485\n"
     ]
    },
    {
     "name": "stderr",
     "output_type": "stream",
     "text": [
      "Epoch 24/30 (Validation): 100%|██████████| 400/400 [00:00<00:00, 1333.39it/s]\n"
     ]
    },
    {
     "name": "stdout",
     "output_type": "stream",
     "text": [
      "Epoch 24/30 (Validation) Correct 3939/4000 Loss 0.13104066252708435\n"
     ]
    },
    {
     "name": "stderr",
     "output_type": "stream",
     "text": [
      "Epoch 25/30 (Training): 100%|██████████| 3800/3800 [00:10<00:00, 356.33it/s]\n"
     ]
    },
    {
     "name": "stdout",
     "output_type": "stream",
     "text": [
      "Epoch 25/30 (Training) Correct 37922/38000 Loss 0.006142422091215849\n"
     ]
    },
    {
     "name": "stderr",
     "output_type": "stream",
     "text": [
      "Epoch 25/30 (Validation): 100%|██████████| 400/400 [00:00<00:00, 1525.08it/s]\n"
     ]
    },
    {
     "name": "stdout",
     "output_type": "stream",
     "text": [
      "Epoch 25/30 (Validation) Correct 3922/4000 Loss 0.17391952872276306\n"
     ]
    },
    {
     "name": "stderr",
     "output_type": "stream",
     "text": [
      "Epoch 26/30 (Training): 100%|██████████| 3800/3800 [00:10<00:00, 360.64it/s]\n"
     ]
    },
    {
     "name": "stdout",
     "output_type": "stream",
     "text": [
      "Epoch 26/30 (Training) Correct 37922/38000 Loss 0.008309144526720047\n"
     ]
    },
    {
     "name": "stderr",
     "output_type": "stream",
     "text": [
      "Epoch 26/30 (Validation): 100%|██████████| 400/400 [00:00<00:00, 1352.18it/s]\n"
     ]
    },
    {
     "name": "stdout",
     "output_type": "stream",
     "text": [
      "Epoch 26/30 (Validation) Correct 3947/4000 Loss 0.10943743586540222\n"
     ]
    },
    {
     "name": "stderr",
     "output_type": "stream",
     "text": [
      "Epoch 27/30 (Training): 100%|██████████| 3800/3800 [00:11<00:00, 340.11it/s]\n"
     ]
    },
    {
     "name": "stdout",
     "output_type": "stream",
     "text": [
      "Epoch 27/30 (Training) Correct 37917/38000 Loss 0.007148085627704859\n"
     ]
    },
    {
     "name": "stderr",
     "output_type": "stream",
     "text": [
      "Epoch 27/30 (Validation): 100%|██████████| 400/400 [00:00<00:00, 1516.14it/s]\n"
     ]
    },
    {
     "name": "stdout",
     "output_type": "stream",
     "text": [
      "Epoch 27/30 (Validation) Correct 3945/4000 Loss 0.13089662790298462\n"
     ]
    },
    {
     "name": "stderr",
     "output_type": "stream",
     "text": [
      "Epoch 28/30 (Training): 100%|██████████| 3800/3800 [00:10<00:00, 348.42it/s]\n"
     ]
    },
    {
     "name": "stdout",
     "output_type": "stream",
     "text": [
      "Epoch 28/30 (Training) Correct 37939/38000 Loss 0.00627135718241334\n"
     ]
    },
    {
     "name": "stderr",
     "output_type": "stream",
     "text": [
      "Epoch 28/30 (Validation): 100%|██████████| 400/400 [00:00<00:00, 1199.31it/s]\n"
     ]
    },
    {
     "name": "stdout",
     "output_type": "stream",
     "text": [
      "Epoch 28/30 (Validation) Correct 3951/4000 Loss 0.10730435699224472\n"
     ]
    },
    {
     "name": "stderr",
     "output_type": "stream",
     "text": [
      "Epoch 29/30 (Training): 100%|██████████| 3800/3800 [00:10<00:00, 356.41it/s]\n"
     ]
    },
    {
     "name": "stdout",
     "output_type": "stream",
     "text": [
      "Epoch 29/30 (Training) Correct 37939/38000 Loss 0.00788129586726427\n"
     ]
    },
    {
     "name": "stderr",
     "output_type": "stream",
     "text": [
      "Epoch 29/30 (Validation): 100%|██████████| 400/400 [00:00<00:00, 1379.27it/s]"
     ]
    },
    {
     "name": "stdout",
     "output_type": "stream",
     "text": [
      "Epoch 29/30 (Validation) Correct 3939/4000 Loss 0.1479770690202713\n"
     ]
    },
    {
     "name": "stderr",
     "output_type": "stream",
     "text": [
      "\n"
     ]
    }
   ],
   "source": [
    "train_loss = []\n",
    "train_accuracy = []\n",
    "test_loss = []\n",
    "test_accuracy = []\n",
    "model_weights = []\n",
    "\n",
    "epochs = 30 # too big number on purpose, want to detect an overfit\n",
    "for i in range(epochs):\n",
    "    # Train\n",
    "    model.train()\n",
    "    correct = 0\n",
    "    total = 0\n",
    "    running_loss = 0.0\n",
    "    for X_train, y_train in tqdm(train_loader, desc=f'Epoch {i}/{epochs} (Training)'):\n",
    "        optimizer.zero_grad()\n",
    "        # Forward\n",
    "        y_predicted = model(X_train)\n",
    "        loss = criterion(y_predicted, y_train)\n",
    "        _, predicted = torch.max(y_predicted, 1)\n",
    "        total += y_train.size(0)\n",
    "        correct += (predicted == y_train).sum()\n",
    "        running_loss += loss\n",
    "        # Update parameters\n",
    "        loss.backward()\n",
    "        optimizer.step()\n",
    "    # Training accuracy\n",
    "    train_accuracy.append(correct / total)\n",
    "    # Average training loss\n",
    "    avg_loss = running_loss / len(train_loader)\n",
    "    train_loss.append(avg_loss)\n",
    "    print(f'Epoch {i}/{epochs} (Training) Correct {correct}/{total} Loss {avg_loss}')\n",
    "    weights = model.state_dict()\n",
    "    model_weights.append(weights)\n",
    "    torch.save(weights, f'weights/model_weights_epoch_{i}.pt')\n",
    "\n",
    "    # Test\n",
    "    model.eval()\n",
    "    correct = 0\n",
    "    total = 0\n",
    "    running_loss = 0.0\n",
    "    with torch.no_grad():\n",
    "        for X_test, y_test in tqdm(test_loader, desc=f'Epoch {i}/{epochs} (Validation)'):\n",
    "            y_validation = model(X_test)\n",
    "            _, predicted = torch.max(y_validation, 1)\n",
    "            total += y_test.size(0)\n",
    "            correct += (predicted == y_test).sum()\n",
    "            # Compute testing loss\n",
    "            loss = criterion(y_validation, y_test)\n",
    "            running_loss += loss\n",
    "    # Testing accuracy\n",
    "    test_accuracy.append(correct / total)\n",
    "    # Average testing loss\n",
    "    avg_loss = running_loss / len(test_loader)\n",
    "    test_loss.append(avg_loss)\n",
    "    print(f'Epoch {i}/{epochs} (Validation) Correct {correct}/{total} Loss {avg_loss}')"
   ]
  },
  {
   "cell_type": "code",
   "execution_count": 60,
   "metadata": {},
   "outputs": [
    {
     "data": {
      "text/plain": [
       "<matplotlib.legend.Legend at 0x7f78116ae7f0>"
      ]
     },
     "execution_count": 60,
     "metadata": {},
     "output_type": "execute_result"
    },
    {
     "data": {
      "image/png": "[encoded data removed]",
      "text/plain": [
       "<Figure size 1200x800 with 2 Axes>"
      ]
     },
     "metadata": {},
     "output_type": "display_data"
    }
   ],
   "source": [
    "f, axarr = plt.subplots(2, 1, figsize=(12, 8))\n",
    "axarr[0].plot([tl.item() for tl in train_loss], label='Training loss')\n",
    "axarr[0].plot([tl.item() for tl in test_loss], label='Validation loss')\n",
    "axarr[0].set_title('Loss at each Epoch')\n",
    "axarr[0].set_xticks(range(len(train_loss)))\n",
    "axarr[0].grid()\n",
    "axarr[0].legend()\n",
    "axarr[1].plot(train_accuracy, label='Training accuracy')\n",
    "axarr[1].plot(test_accuracy,  label='Validation accuracy')\n",
    "axarr[1].set_title('Accuracy at each Epoch')\n",
    "axarr[1].set_xticks(range(len(test_loss)))\n",
    "axarr[1].grid()\n",
    "axarr[1].legend()"
   ]
  },
  {
   "cell_type": "code",
   "execution_count": 61,
   "metadata": {},
   "outputs": [],
   "source": [
    "# Epoch 8: smallest loss, good validation accuracy\n",
    "# Epoch 20: highest validation accuracy"
   ]
  },
  {
   "cell_type": "code",
   "execution_count": 41,
   "metadata": {},
   "outputs": [
    {
     "name": "stdout",
     "output_type": "stream",
     "text": [
      "torch.Size([28000, 1, 28, 28])\n"
     ]
    }
   ],
   "source": [
    "# Submission Data\n",
    "X = pd.read_csv('data/test.csv')\n",
    "X = X.astype('float32') / 255.0 # normalize\n",
    "X = torch.tensor(X.values, dtype=torch.float32)\n",
    "X = X.reshape(-1, 1, 28, 28)\n",
    "submission_loader = DataLoader(X, batch_size=32, shuffle=False)\n",
    "print(X.shape)"
   ]
  },
  {
   "cell_type": "code",
   "execution_count": 42,
   "metadata": {},
   "outputs": [
    {
     "data": {
      "text/html": [
       "<div>\n",
       "<style scoped>\n",
       "    .dataframe tbody tr th:only-of-type {\n",
       "        vertical-align: middle;\n",
       "    }\n",
       "\n",
       "    .dataframe tbody tr th {\n",
       "        vertical-align: top;\n",
       "    }\n",
       "\n",
       "    .dataframe thead th {\n",
       "        text-align: right;\n",
       "    }\n",
       "</style>\n",
       "<table border=\"1\" class=\"dataframe\">\n",
       "  <thead>\n",
       "    <tr style=\"text-align: right;\">\n",
       "      <th></th>\n",
       "      <th>Label</th>\n",
       "    </tr>\n",
       "    <tr>\n",
       "      <th>ImageId</th>\n",
       "      <th></th>\n",
       "    </tr>\n",
       "  </thead>\n",
       "  <tbody>\n",
       "    <tr>\n",
       "      <th>1</th>\n",
       "      <td>2</td>\n",
       "    </tr>\n",
       "    <tr>\n",
       "      <th>2</th>\n",
       "      <td>0</td>\n",
       "    </tr>\n",
       "    <tr>\n",
       "      <th>3</th>\n",
       "      <td>9</td>\n",
       "    </tr>\n",
       "    <tr>\n",
       "      <th>4</th>\n",
       "      <td>8</td>\n",
       "    </tr>\n",
       "    <tr>\n",
       "      <th>5</th>\n",
       "      <td>3</td>\n",
       "    </tr>\n",
       "    <tr>\n",
       "      <th>...</th>\n",
       "      <td>...</td>\n",
       "    </tr>\n",
       "    <tr>\n",
       "      <th>27996</th>\n",
       "      <td>9</td>\n",
       "    </tr>\n",
       "    <tr>\n",
       "      <th>27997</th>\n",
       "      <td>7</td>\n",
       "    </tr>\n",
       "    <tr>\n",
       "      <th>27998</th>\n",
       "      <td>3</td>\n",
       "    </tr>\n",
       "    <tr>\n",
       "      <th>27999</th>\n",
       "      <td>9</td>\n",
       "    </tr>\n",
       "    <tr>\n",
       "      <th>28000</th>\n",
       "      <td>2</td>\n",
       "    </tr>\n",
       "  </tbody>\n",
       "</table>\n",
       "<p>28000 rows × 1 columns</p>\n",
       "</div>"
      ],
      "text/plain": [
       "         Label\n",
       "ImageId       \n",
       "1            2\n",
       "2            0\n",
       "3            9\n",
       "4            8\n",
       "5            3\n",
       "...        ...\n",
       "27996        9\n",
       "27997        7\n",
       "27998        3\n",
       "27999        9\n",
       "28000        2\n",
       "\n",
       "[28000 rows x 1 columns]"
      ]
     },
     "execution_count": 42,
     "metadata": {},
     "output_type": "execute_result"
    }
   ],
   "source": [
    "# Epoch 8\n",
    "model.load_state_dict(model_weights[8])\n",
    "model.eval()\n",
    "\n",
    "predicted_labels = []\n",
    "with torch.no_grad():\n",
    "    for inputs in submission_loader:\n",
    "        outputs = model(inputs)\n",
    "        _, predicted = torch.max(outputs, 1)\n",
    "        predicted_labels.extend(predicted.tolist())\n",
    "\n",
    "output_data = pd.DataFrame({'Label': predicted_labels})\n",
    "output_data.index += 1\n",
    "output_data.index.names = ['ImageId']\n",
    "output_data.to_csv('submission.csv')\n",
    "output_data"
   ]
  },
  {
   "cell_type": "code",
   "execution_count": 40,
   "metadata": {},
   "outputs": [
    {
     "data": {
      "text/plain": [
       "<matplotlib.image.AxesImage at 0x7f780cafdf10>"
      ]
     },
     "execution_count": 40,
     "metadata": {},
     "output_type": "execute_result"
    },
    {
     "data": {
      "image/png": "[encoded data removed]",
      "text/plain": [
       "<Figure size 640x480 with 1 Axes>"
      ]
     },
     "metadata": {},
     "output_type": "display_data"
    }
   ],
   "source": [
    "# Looks correct\n",
    "plt.imshow(X[0][0])"
   ]
  }
 ],
 "metadata": {
  "kernelspec": {
   "display_name": ".venv",
   "language": "python",
   "name": "python3"
  },
  "language_info": {
   "codemirror_mode": {
    "name": "ipython",
    "version": 3
   },
   "file_extension": ".py",
   "mimetype": "text/x-python",
   "name": "python",
   "nbconvert_exporter": "python",
   "pygments_lexer": "ipython3",
   "version": "3.8.10"
  }
 },
 "nbformat": 4,
 "nbformat_minor": 2
}
